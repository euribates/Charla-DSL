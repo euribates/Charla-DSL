{
 "cells": [
  {
   "cell_type": "markdown",
   "metadata": {
    "deletable": true,
    "editable": true
   },
   "source": [
    "## Ejemplo de uso de pyparsing\n",
    "\n",
    "Vamos a utilizar [pyparsing](http://pyparsing.wikispaces.com/home) para \n",
    "procesar un fichero csv. Para hacer las cosas\n",
    "más interesantes, supondremos que el formato\n",
    "de los ficheros es muy laxo; por ejemplo, podemos\n",
    "encontrarnos con lo siguiente:\n",
    "\n",
    " - Los campos de texto pueden venir entrecomillados o no\n",
    "\n",
    " - Los campos de tipo fecha pueden venir en dos formatos: YYYY-MM-DD o DD/MM/YYYY \n",
    "\n",
    " - Los campos de tipo booleano pueden venir con los valores ``1``, ``S``, ``Y`` o ``TRUE`` para el valor lógico verdadero, y ``0``, ``N``, ``F`` y ``False`` para el valor lógico falso\n",
    "\n",
    " - Los numeros decimales pueden venir con una coma o con un punto como seperador decimal.\n",
    "\n",
    " - La primera línea contiene los nombres de los campos, el resto los datos; en los dos casos se separa cada valor por el  caracter ``;``\n"
   ]
  },
  {
   "cell_type": "markdown",
   "metadata": {
    "deletable": true,
    "editable": true
   },
   "source": [
    "### Ejemplo de datos a procesar\n",
    "\n",
    "Algo como esto:\n",
    "\n",
    "    Comentario;Activo;Fecha;Importe\n",
    "    Texto sin comillas porque yo lo valgo;Y;2017-08-08;4292.00\n",
    "    \"Ahora si que pongo comillas\";F;25/8/2014;3200.00\n",
    "    Ya ves, todo vale;True;1/1/1970;4532,02\n",
    "\n"
   ]
  },
  {
   "cell_type": "markdown",
   "metadata": {
    "collapsed": true,
    "deletable": true,
    "editable": true
   },
   "source": [
    "### Una gramatica para estos ficheros\n",
    "\n",
    "La gramática podría ser algo así:\n",
    "    \n",
    "    root -> header + lines\n",
    "    header -> \\.+ # ignorar la linea \n",
    "    lines -> line+\n",
    "    line -> text + sep + date + sep + bool + sep + cost\n",
    "    text -> '\"' + literal + '\"' | literal\n",
    "    date -> year + '-' + month + '-' + day | day + '/' + month + '/' + year\n",
    "    cost -> \\d+[\\.|,]\\d{2}\n",
    "    bool -> '1' | 'S' | 'Y' | 'T' | 'True' | '0' | 'N' | 'F' | 'False'\n",
    "    year -> \\d{4}\n",
    "    month -> 1|2|3|4|5|6|7|8|9|10|11|12\n",
    "    day -> \\d{1,2}\n",
    " "
   ]
  },
  {
   "cell_type": "markdown",
   "metadata": {},
   "source": [
    "### Implementación con pyparsing"
   ]
  },
  {
   "cell_type": "markdown",
   "metadata": {
    "deletable": true,
    "editable": true
   },
   "source": [
    "Lo bueno de pyparsing es que nos permite testerar y modificar las distintas partes de la gramática como piezas sueltas. Así podemos crear el parser poco a poco, ensamblando las distinas piezas, con la confianza de que estas funcionan. "
   ]
  },
  {
   "cell_type": "markdown",
   "metadata": {},
   "source": [
    "### Parseando fechas"
   ]
  },
  {
   "cell_type": "markdown",
   "metadata": {},
   "source": [
    "Por ejemplo, para las fechas, que pueden venir en dos formatos, tenemos el siguiente fragmento de la gramática (pasado a la sintaxis de pyparsing, y por tanto cambiando el orden, la regla inicial sería la última):\n",
    "    "
   ]
  },
  {
   "cell_type": "code",
   "execution_count": 213,
   "metadata": {
    "collapsed": false,
    "deletable": true,
    "editable": true
   },
   "outputs": [],
   "source": [
    "from pyparsing import Literal, Regex, oneOf, StringEnd, Group, ParseException\n",
    "\n",
    "dash = Literal('-')\n",
    "slash = Literal('/')\n",
    "year = Regex('\\d{4}')\n",
    "month = Regex('\\d{1,2}')\n",
    "day = Regex('\\d{1,2}')\n",
    "date = year + dash + month + dash + day ^ day + slash + month + slash + year\n",
    "# pyparsong sobrecarga el operador ^ para indicar alternancia"
   ]
  },
  {
   "cell_type": "markdown",
   "metadata": {},
   "source": [
    "La clase ``Literal`` sirve para indicar una expresión o token literal, que queremos detectar durante la fase de\n",
    "parseo. Así, definimos ``dash`` y ``slash`` para detectar los literales ``-`` y ``/``. La clase ``Regex`` nos permite usar definir tokens usando expresiones regulares. Estos objetos, así como el resto de los que veremos, derivan de la clase ``ParserElement`` de pyparsing, que sobrecarga los operadores para poder expresar las reglas de la gramática. Así, la regla:\n",
    "\n",
    "    date -> year + '-' + month + '-' + day | day + '/' + month + '/' + year\n",
    "    \n",
    "Se puede expresar en Python con los operadores ``+`` y ``^``:\n",
    "\n",
    "    date = year + dash + month + dash + day ^ day + slash + month + slash + year\n",
    "    \n",
    "Aparte de cambios como el uso del operador ``^``, o la definición de los literales ``dash`` y ``slash``, podemos ver que la gramática se mapea de forma casi directa a expesiones en Python.\n",
    "\n",
    "Veamos que tal funcioa este mini-parser:"
   ]
  },
  {
   "cell_type": "code",
   "execution_count": 214,
   "metadata": {
    "collapsed": false,
    "deletable": true,
    "editable": true
   },
   "outputs": [
    {
     "name": "stdout",
     "output_type": "stream",
     "text": [
      "['25', '/', '8', '/', '2016']\n",
      "['2017', '-', '12', '-', '08']\n"
     ]
    }
   ],
   "source": [
    "try:\n",
    "    date.parseString('hola')\n",
    "except ParseException:\n",
    "    pass  # Ok, no es una fecha\n",
    "\n",
    "print(date.parseString('25/8/2016'))\n",
    "print(date.parseString('2017-12-08'))\n"
   ]
  },
  {
   "cell_type": "markdown",
   "metadata": {},
   "source": [
    "pyparsing define su propia clase de excepciones para errores de Parseo, ``parseException``. Si nuestro parser es muy complicado puede ser interesante usar esta misma excepción para indicar nuestros propios errores. Por ejemplo, ahora mismo aceptamos para el día cualquier combinación de dos dígitos, e igualmente para el mes:"
   ]
  },
  {
   "cell_type": "code",
   "execution_count": 215,
   "metadata": {
    "collapsed": false
   },
   "outputs": [
    {
     "name": "stdout",
     "output_type": "stream",
     "text": [
      "['99', '/', '88', '/', '2016']\n"
     ]
    }
   ],
   "source": [
    "print(date.parseString('99/88/2016'))  # opps, esto no debería valer, pero vale"
   ]
  },
  {
   "cell_type": "markdown",
   "metadata": {},
   "source": [
    "Más adelante veremos que podemos tratar estos casos y elevar errores explicativos que provoquen el fallo del parser."
   ]
  },
  {
   "cell_type": "markdown",
   "metadata": {},
   "source": [
    "Por ahora, poco más de lo que podríamos hacer simpemente con expresiones regulares. \n",
    "\n",
    "Podemos realizar una pequeña mejora. Observemos un detalle de los separadores usados en el formato de fechas, definidos como ``dash`` y ``slash``; en realidad, sus valores no nos interesan. Podemos calcular el valor de la fecha sin necesidad de saber que caracteres se usaron como separador. Estos elementos son necesarios para el parser, pero no tienen más utilidad.\n",
    "\n",
    "Existe una clase en pyparsing llamada ``Suppress`` que funciona exactamente igual que ``Literal``, pero que retira el token, de forma que nos evitamos procesarlo. Cambiamos la gramática para redefinir ``dash`` y ``slash`` usando ``Suppress`` en vez de ``Literal``:"
   ]
  },
  {
   "cell_type": "code",
   "execution_count": 216,
   "metadata": {
    "collapsed": true
   },
   "outputs": [],
   "source": [
    "from pyparsing import Suppress\n",
    "\n",
    "dash = Suppress('-')\n",
    "slash = Suppress('/')\n",
    "year = Regex('\\d{4}')\n",
    "month = Regex('\\d{1,2}')\n",
    "day = Regex('\\d{1,2}')\n",
    "date = year + dash + month + dash + day ^ day + slash + month + slash + year"
   ]
  },
  {
   "cell_type": "code",
   "execution_count": 218,
   "metadata": {
    "collapsed": false
   },
   "outputs": [
    {
     "name": "stdout",
     "output_type": "stream",
     "text": [
      "['23', '9', '2016']\n"
     ]
    }
   ],
   "source": [
    "print(date.parseString('23/9/2016'))  # bien, el separador desaparece"
   ]
  },
  {
   "cell_type": "markdown",
   "metadata": {
    "deletable": true,
    "editable": true
   },
   "source": [
    "No está mal, pero la mejora realmente interesante sería que nos devolviera algo más elaborado, un objeto de tipo fecha, objetos de tipo ``datetime.datetime``, por ejemplo. Vamos a ello. Pare eso, necesitamos usar **reglas de parseo**.\n",
    "\n",
    "### Reglas de parseo\n",
    "\n",
    "Podemos asociar acciónes a las reglas de parseo (en este daso, ``date``) para que se ejecuten  cada vez qe se active la regla.\n",
    "\n",
    "Vamos a asociar una función que no haga nada, solo imprimir un valor para ver que, efectivamente, se ejecuta cuando la regla de parseo se activa. Usaremos el método ``setParseAction``:"
   ]
  },
  {
   "cell_type": "code",
   "execution_count": 219,
   "metadata": {
    "collapsed": false,
    "deletable": true,
    "editable": true
   },
   "outputs": [
    {
     "name": "stdout",
     "output_type": "stream",
     "text": [
      "OK, se ha ejecutado la acción\n",
      "['25', '8', '2016']\n",
      "OK, se ha ejecutado la acción\n",
      "['2017', '12', '08']\n"
     ]
    }
   ],
   "source": [
    "def very_simple_action():\n",
    "    print('OK, se ha ejecutado la acción')\n",
    "    \n",
    "date.setParseAction(very_simple_action)\n",
    "print(date.parseString('25/8/2016'))\n",
    "print(date.parseString('2017-12-08'))"
   ]
  },
  {
   "cell_type": "markdown",
   "metadata": {
    "deletable": true,
    "editable": true
   },
   "source": [
    "De la documentación de pyparsing, podemos obtener más información sobre como definir y usar estas acciones:\n",
    "\n",
    "Podemos definir uno o varias acciones a realizar cuando se produce una coincidencia\n",
    "que activa la regla del parser. Estas acciones pueden ser cualquier objeto de tipo *callable* de python; es decir, funciones, métodos u objetos instanciados de clases que definan el \n",
    "método mágico ``__call__``.\n",
    "\n",
    "Las acciones pueden aceptar desde cero hasta tres argumentos, es decir que, dependiendo de como definamos la acción ``f``, esta será llamada como ``f()``, ``fn(toks)``, ``fn(loc, toks)`` o ``f(s, loc, toks)``. El significado de estos parámetros es el siguiente:\n",
    "\n",
    "- ``s``: es la string original que ha activado el patrón de la regla\n",
    "    \n",
    "- ``loc``: es la localización dentro del texto de la substring ``s`` (Util para generar mensajes de error).\n",
    "\n",
    "- ``toks``: Una lista de los tokens encontrados, empaquetados en forma de objeto de tipo ParseResults\n",
    "                              \n",
    "Si la función quiere modificar los tokens, debe devolver un nuevo valor como\n",
    "resultado de la función, con lo que la lista de tokens devueltos reemplazaría\n",
    "a la original. Si no queremos realizar ningún cambio, la función no necesita\n",
    "retornar ningún valor.\n",
    "\n",
    "Definamos una acción solo para ver que estos parámetros se pasan efectivamente:"
   ]
  },
  {
   "cell_type": "code",
   "execution_count": 220,
   "metadata": {
    "collapsed": false,
    "deletable": true,
    "editable": true
   },
   "outputs": [
    {
     "name": "stdout",
     "output_type": "stream",
     "text": [
      "s: 25/8/2016\n",
      "loc: 0\n",
      "tokens: ['25', '8', '2016']\n",
      "\n"
     ]
    },
    {
     "data": {
      "text/plain": [
       "(['25', '8', '2016'], {})"
      ]
     },
     "execution_count": 220,
     "metadata": {},
     "output_type": "execute_result"
    }
   ],
   "source": [
    "def I_just_wanna_see(s, loc, tokens):\n",
    "    print('s:', s)\n",
    "    print('loc:', loc)   \n",
    "    print('tokens:', tokens)\n",
    "    print()\n",
    "    \n",
    "date.setParseAction(I_just_wanna_see)\n",
    "date.parseString('25/8/2016')"
   ]
  },
  {
   "cell_type": "markdown",
   "metadata": {},
   "source": [
    "Nota: Podemos asignar varias acciones usando el método ``addParseAction``. en ese caso, las acciones se ejecutan de forma anidada, siendo la primera en ejecutarse la primera en añadirse. Cada acción recibe como entrada el resultado de la anterior y pasa su resultado a la siguiente. Veamos un ejemplo:"
   ]
  },
  {
   "cell_type": "code",
   "execution_count": 221,
   "metadata": {
    "collapsed": false
   },
   "outputs": [
    {
     "name": "stdout",
     "output_type": "stream",
     "text": [
      "['EIHOLAAI']\n"
     ]
    }
   ],
   "source": [
    "token = Literal('hola')\n",
    "token.addParseAction(lambda tokens: 'ei' + tokens[0] + 'ai')\n",
    "token.addParseAction(lambda tokens: tokens[0].upper())\n",
    "print(token.parseString('hola'))"
   ]
  },
  {
   "cell_type": "markdown",
   "metadata": {},
   "source": [
    "Si cambiamos el orden en que se añaden las acciones, el resultado puede diferir, lógicamente:"
   ]
  },
  {
   "cell_type": "code",
   "execution_count": 222,
   "metadata": {
    "collapsed": false
   },
   "outputs": [
    {
     "name": "stdout",
     "output_type": "stream",
     "text": [
      "['eiHOLAai']\n"
     ]
    }
   ],
   "source": [
    "token = Literal('hola')\n",
    "token.addParseAction(lambda tokens: tokens[0].upper())\n",
    "token.addParseAction(lambda tokens: 'ei' + tokens[0] + 'ai')\n",
    "print(token.parseString('hola'))"
   ]
  },
  {
   "cell_type": "markdown",
   "metadata": {
    "deletable": true,
    "editable": true
   },
   "source": [
    "Con esto ya podemos definir una acción que nos devuelva un objeto ``date``. Usaremos una acción con un solo parámetro, ``tokens``, que será una lista de los tokens detectados, ya que no necesitamos en este caso los otros parámetros posibles.\n",
    "\n",
    "Como devolvemos un valor, el parser sustituirá la lista de tokens detectados por ese nuevo valor."
   ]
  },
  {
   "cell_type": "code",
   "execution_count": 223,
   "metadata": {
    "collapsed": false,
    "deletable": true,
    "editable": true
   },
   "outputs": [
    {
     "name": "stdout",
     "output_type": "stream",
     "text": [
      "[datetime.date(2016, 8, 25)]\n",
      "[datetime.date(2017, 12, 8)]\n"
     ]
    }
   ],
   "source": [
    "import datetime\n",
    "\n",
    "def get_as_date(tokens):\n",
    "    first_element = tokens[0]\n",
    "    if len(first_element) == 4:  # Formato YYYY-MM-DD\n",
    "        d = datetime.date(\n",
    "            int(tokens[0]),  # Year\n",
    "            int(tokens[1]),  # Month\n",
    "            int(tokens[2]),  # Day\n",
    "            )\n",
    "    else:\n",
    "        d = datetime.date(\n",
    "            int(tokens[2]),  # Year\n",
    "            int(tokens[1]),  # Month\n",
    "            int(tokens[0]),  # Day\n",
    "            )\n",
    "    return d\n",
    "    \n",
    "date.setParseAction(get_as_date)\n",
    "print(date.parseString('25/8/2016'))\n",
    "print(date.parseString('2017-12-08'))"
   ]
  },
  {
   "cell_type": "markdown",
   "metadata": {},
   "source": [
    "### Vamos a parsear valores lógicos"
   ]
  },
  {
   "cell_type": "markdown",
   "metadata": {
    "deletable": true,
    "editable": true
   },
   "source": [
    "Podemos hacer algo similar con los objetos booleanos. Usaremos una de las funciones auxiliares de \n",
    "pyparsing, ``oneOf``, que nos permite definir de forma rápida un conjunto de literales\n",
    "alternativos. Además se asegura de que siempre intentará capturar el literal más grande, en caso de\n",
    "que haya conflicto entre alguno de ellos; por ejemplo, entre ``<`` y ``<=`` primero intentará\n",
    "encontrar una correspondencia con el más largo, ``<=``, y si no la encuentra lo intentará con ``<``.\n"
   ]
  },
  {
   "cell_type": "code",
   "execution_count": 224,
   "metadata": {
    "collapsed": false,
    "deletable": true,
    "editable": true
   },
   "outputs": [
    {
     "name": "stdout",
     "output_type": "stream",
     "text": [
      "['True']\n"
     ]
    }
   ],
   "source": [
    "from pyparsing import oneOf\n",
    "\n",
    "boolean = oneOf('1 S Y T True 0 N F False')\n",
    "print(boolean.parseString('True'))"
   ]
  },
  {
   "cell_type": "markdown",
   "metadata": {
    "deletable": true,
    "editable": true
   },
   "source": [
    "Con un poco de mágia en forma de acción asociada a la regla obtendremos valores booleanos de Python. LA API\n",
    "de pyparsing es fluida, por lo que podemos definir la regla y asociar la acción en una sola línea:"
   ]
  },
  {
   "cell_type": "code",
   "execution_count": 225,
   "metadata": {
    "collapsed": false,
    "deletable": true,
    "editable": true
   },
   "outputs": [],
   "source": [
    "def get_as_bool(tokens):\n",
    "    return tokens[0] in ('1', 'S', 'Y', 'T', 'True')\n",
    "\n",
    "boolean = oneOf('1 S Y T True 0 N F False').setParseAction(get_as_bool)\n",
    "\n",
    "# simple tests\n",
    "\n",
    "assert boolean.parseString('1').pop() is True\n",
    "assert boolean.parseString('S').pop() is True\n",
    "assert boolean.parseString('Y').pop() is True\n",
    "assert boolean.parseString('T').pop() is True\n",
    "assert boolean.parseString('True').pop() is True\n",
    "assert boolean.parseString('0').pop() is False\n",
    "assert boolean.parseString('N').pop() is False\n",
    "assert boolean.parseString('F').pop() is False\n",
    "assert boolean.parseString('False').pop() is False\n"
   ]
  },
  {
   "cell_type": "markdown",
   "metadata": {
    "deletable": true,
    "editable": true
   },
   "source": [
    "### Parsear los importes\n",
    "\n",
    "Nos queda el problema de los importes, que pueden usar como separador decimal la coma, al estilo\n",
    "español, o el punto, al estilo internacional, y las cadenas de textos, que pueden venir \n",
    "limitadas por comillas o no. Los dos casos son fáciles de tratar:"
   ]
  },
  {
   "cell_type": "code",
   "execution_count": 227,
   "metadata": {
    "collapsed": false,
    "deletable": true,
    "editable": true
   },
   "outputs": [
    {
     "data": {
      "text/plain": [
       "(['3819', '.', '24'], {})"
      ]
     },
     "execution_count": 227,
     "metadata": {},
     "output_type": "execute_result"
    }
   ],
   "source": [
    "from pyparsing import nums, Word\n",
    "cost = Word(nums) + oneOf('. ,') + Regex('\\d\\d')\n",
    "\n",
    "cost.parseString('3819.24')"
   ]
  },
  {
   "cell_type": "markdown",
   "metadata": {
    "deletable": true,
    "editable": true
   },
   "source": [
    "La clase ``Word`` nos permite definir una palabra, pasandole uno o dos parámetros, que son vocabularios. Los vocabularios se pueden indicar con una string de símbolos: ``'aeiou'``. ``nums`` es solo una constante definida en pyparsing que vale ``'0123456789'``. Podiamos haber usado una expresión regular, pero ``Word`` es bastante interesante.\n",
    "\n",
    "Si a ``Word`` se le pasa un solo vocabulario, define una palabra como una secuencia de n caracteres tomados de los símbolos definidos en el vocabulario.\n",
    "\n",
    "Si se le pasan dos vocabularios, define una palabra como una secuencia donde el primer\n",
    "caracter debe pertenecer al primer vocabulario y el resto, si los hubiera, al segundo. Por ejemplo, podemos definir un parser para los nombres válidos de Python, que permiten el uso de carateres alfanuméricos y el carácter subrayado, pero no no se permiten que empiece por un dígito:"
   ]
  },
  {
   "cell_type": "code",
   "execution_count": 229,
   "metadata": {
    "collapsed": true,
    "deletable": true,
    "editable": true
   },
   "outputs": [],
   "source": [
    "from pyparsing import alphas, nums, alphanums\n",
    "\n",
    "assert alphas == 'ABCDEFGHIJKLMNOPQRSTUVWXYZabcdefghijklmnopqrstuvwxyz'\n",
    "assert alphanums == alphas + nums\n",
    "\n",
    "var_name = Word(alphas + '_', alphanums + '_')\n",
    "\n",
    "var_name.parseString('a')\n",
    "var_name.parseString('a1')\n",
    "var_name.parseString('alp_ha')\n",
    "try:\n",
    "    var_name.parseString('1uno')\n",
    "except ParseException:\n",
    "    # Oops, no se permite el caracter '_'\n",
    "    pass\n"
   ]
  },
  {
   "cell_type": "markdown",
   "metadata": {},
   "source": [
    "Definamos otra patrón, incluyendo el símbolo dolar como caracter válido al principio, PERL-style:"
   ]
  },
  {
   "cell_type": "code",
   "execution_count": 230,
   "metadata": {
    "collapsed": false,
    "deletable": true,
    "editable": true
   },
   "outputs": [],
   "source": [
    "var_name_plus = Word(alphas + '$', alphanums + '_')\n",
    "assert var_name_plus.parseString('a').pop() == 'a'\n",
    "assert var_name_plus.parseString('$_alpha').pop() == '$_alpha'\n",
    "assert var_name_plus.parseString('$Alpha_plus').pop() == '$Alpha_plus'"
   ]
  },
  {
   "cell_type": "markdown",
   "metadata": {
    "deletable": true,
    "editable": true
   },
   "source": [
    "Hecha esta disgresión, volvamos al problema de tratar los importes. Añadamos\n",
    "una acción para obtener un número de tipo Decimal:"
   ]
  },
  {
   "cell_type": "code",
   "execution_count": 232,
   "metadata": {
    "collapsed": false,
    "deletable": true,
    "editable": true
   },
   "outputs": [
    {
     "name": "stdout",
     "output_type": "stream",
     "text": [
      "[Decimal('3.14')]\n"
     ]
    }
   ],
   "source": [
    "from decimal import Decimal\n",
    "\n",
    "def get_as_decimal(tokens):\n",
    "    int_part, dec_part = tokens\n",
    "    return Decimal('{}.{}'.format(int_part, dec_part))\n",
    "\n",
    "cost = Word(nums) + Suppress(oneOf('. ,')) + Regex('\\d\\d')\n",
    "cost.setParseAction(get_as_decimal)\n",
    "\n",
    "cost.parseString('484432,23')\n",
    "num_esp = cost.parseString('484432,23').pop()\n",
    "num_int = cost.parseString('484432.23').pop()\n",
    "assert num_esp == num_int == Decimal('484432.23')\n",
    "print(cost.parseString('3.14'))\n"
   ]
  },
  {
   "cell_type": "markdown",
   "metadata": {
    "deletable": true,
    "editable": true
   },
   "source": [
    "### Cadenas de texto con o sin delimitador\n",
    "\n",
    "Para poder procesar las cadenas de texto, ignorando si procede las comillas delimitadoras opcionales, podemos hacer:"
   ]
  },
  {
   "cell_type": "code",
   "execution_count": 233,
   "metadata": {
    "collapsed": false,
    "deletable": true,
    "editable": true
   },
   "outputs": [],
   "source": [
    "quote = Suppress('\"')\n",
    "content = Regex(\"[^\\\";]+\") # Cualquier secuencia de caracteres, excepto ; y \"\n",
    "text = quote + content + quote ^ content\n",
    "\n",
    "assert text.parseString('Texto sin comillas').pop() == 'Texto sin comillas'\n",
    "assert text.parseString('\"Texto con comillas\"').pop() == 'Texto con comillas'\n",
    "    "
   ]
  },
  {
   "cell_type": "markdown",
   "metadata": {
    "deletable": true,
    "editable": true
   },
   "source": [
    "Bueno, ha sido un viaje un poco largo, porque nos hemos parado en algunos puntos interesantes, pero ya podemos escribir la gramática completa, junto al parser y las acciones aplicadas:"
   ]
  },
  {
   "cell_type": "code",
   "execution_count": 204,
   "metadata": {
    "collapsed": false,
    "deletable": true,
    "editable": true
   },
   "outputs": [],
   "source": [
    "from pyparsing import OneOrMore\n",
    "# Funciones de conversion\n",
    "\n",
    "def get_as_decimal(s, lok, tokens):\n",
    "    int_part, _sep, dec_part = tokens\n",
    "    return Decimal('{}.{}'.format(int_part, dec_part))\n",
    "\n",
    "def get_as_date(s, loc, tokens):\n",
    "    a, b, c = tokens\n",
    "    if len(a) == 4:  # Formato YYYY-MM-DD\n",
    "        return datetime.date(int(a), int(b), int(c))\n",
    "    else:  # Formato DD/MM/YYYY\n",
    "        return datetime.date(int(c), int(b), int(a))\n",
    "\n",
    "def get_as_bool(s, loc, tokens):\n",
    "    return tokens[0] in ('1', 'S', 'Y', 'T', 'True')\n",
    "\n",
    "sep = Suppress(';')\n",
    "\n",
    "quote = Suppress('\"') # Texto\n",
    "content = Regex(\"[^\\\";]+\") # Cualquier secuencia de caracteres, excepto ; y \"\n",
    "text = quote + content + quote ^ content\n",
    "text.setParseAction(lambda tokens: tokens[0].strip())\n",
    "\n",
    "boolean = oneOf('1 S Y T True 0 N F False') # Valores lógicos\n",
    "boolean.setParseAction(get_as_bool)\n",
    "\n",
    "dash = Suppress('-') # Fechas\n",
    "slash = Suppress('/')\n",
    "year = Regex('\\d{4}')\n",
    "month = Regex('\\d{1,2}')\n",
    "day = Regex('\\d{1,2}')\n",
    "date = year + dash + month + dash + day ^ day + slash + month + slash + year\n",
    "date.setParseAction(get_as_date)\n",
    "\n",
    "cost = Word(nums) + oneOf('. ,') + Regex('\\d\\d')  # Importes\n",
    "cost.setParseAction(get_as_decimal)\n",
    "\n",
    "line = Group(text + sep + boolean + sep + date + sep + cost)  # One Line\n",
    "\n",
    "lines = OneOrMore(line)  # Lines\n",
    "lines.setParseAction(lambda tokens: list(tokens))\n",
    "\n",
    "header = Suppress(Regex('.+'))  # Header\n",
    "\n",
    "parser = header + lines + StringEnd() # First rule"
   ]
  },
  {
   "cell_type": "markdown",
   "metadata": {},
   "source": [
    "- La clase ``OneOrMore`` nos permite implementar las reglas de *una secuencia de uno o más elementos repetidos*, como su  mismo nombre indica. Pyparsing define muchos más clases de este tipo, como ``ZeroOrMore``, ``Optional``, (Uno o cero), ``OnlyOne``... \n",
    "\n",
    "-  La clase ``Group`` nos permite agrupar varios tokens en un solo resultado, normalmente porque vamos a tratarlos todos juntos. \n",
    "\n",
    "- La clase ``StringEnd`` nos permite indicar que el parser, al consumir este token, debería de haber terminado, es decir, que todo el texto a parserar debe consumirse íntegramente."
   ]
  },
  {
   "cell_type": "code",
   "execution_count": 205,
   "metadata": {
    "collapsed": false,
    "deletable": true,
    "editable": true
   },
   "outputs": [
    {
     "name": "stdout",
     "output_type": "stream",
     "text": [
      "[['Texto sin comillas porque yo lo valgo', True, datetime.date(2017, 8, 8), Decimal('4292.00')]]\n"
     ]
    }
   ],
   "source": [
    "print(line.parseString('Texto sin comillas porque yo lo valgo;Y;2017-08-08;4292.00'))"
   ]
  },
  {
   "cell_type": "code",
   "execution_count": 206,
   "metadata": {
    "collapsed": false,
    "deletable": true,
    "editable": true
   },
   "outputs": [
    {
     "name": "stdout",
     "output_type": "stream",
     "text": [
      "[['Ahora si que pongo comillas', False, datetime.date(2014, 8, 25), Decimal('3200.00')]]\n"
     ]
    }
   ],
   "source": [
    "print(line.parseString('\"Ahora si que pongo comillas\";F;25/8/2014;3200.00'))"
   ]
  },
  {
   "cell_type": "code",
   "execution_count": 207,
   "metadata": {
    "collapsed": false,
    "deletable": true,
    "editable": true
   },
   "outputs": [
    {
     "name": "stdout",
     "output_type": "stream",
     "text": [
      "[['Ya ves, todo vale', True, datetime.date(1970, 1, 1), Decimal('4532.02')]]\n"
     ]
    }
   ],
   "source": [
    "print(line.parseString('Ya ves, todo vale;True;1/1/1970;4532,02'))"
   ]
  },
  {
   "cell_type": "raw",
   "metadata": {
    "deletable": true,
    "editable": true
   },
   "source": [
    "print(header.parseString('Comentario;Activo;Fecha;Importe'))  # Ignoramos la cabecera"
   ]
  },
  {
   "cell_type": "code",
   "execution_count": 234,
   "metadata": {
    "collapsed": false,
    "deletable": true,
    "editable": true
   },
   "outputs": [
    {
     "name": "stdout",
     "output_type": "stream",
     "text": [
      "['Texto sin comillas porque yo lo valgo', True, datetime.date(2017, 8, 8), Decimal('4292.00')]\n",
      "['Ahora si que pongo comillas', False, datetime.date(2014, 8, 25), Decimal('3200.00')]\n",
      "['Ya ves, todo vale', True, datetime.date(1970, 1, 1), Decimal('4532.02')]\n"
     ]
    }
   ],
   "source": [
    "source = '''Comentario;Activo;Fecha;Importe\n",
    "Texto sin comillas porque yo lo valgo;Y;2017-08-08;4292.00\n",
    "\"Ahora si que pongo comillas\";F;25/8/2014;3200.00\n",
    "Ya ves, todo vale;True;1/1/1970;4532,02\n",
    "'''\n",
    "g = parser.parseString(source)\n",
    "for item in g:\n",
    "    print(item)"
   ]
  },
  {
   "cell_type": "markdown",
   "metadata": {},
   "source": [
    "Unsado el método ``parseFile`` podemos procesar un fichero, si especificamos el nombre, un fichero abierto, o cualquier objeto que implemente una interfaz similar a ``File``:"
   ]
  },
  {
   "cell_type": "code",
   "execution_count": 235,
   "metadata": {
    "collapsed": false
   },
   "outputs": [
    {
     "name": "stdout",
     "output_type": "stream",
     "text": [
      "['Texto sin comillas porque yo lo valgo', True, datetime.date(2017, 8, 8), Decimal('4292.00')]\n",
      "['Ahora si que pongo comillas', False, datetime.date(2014, 8, 25), Decimal('3200.00')]\n",
      "['Ya ves, todo vale', True, datetime.date(1970, 1, 1), Decimal('4532.02')]\n",
      "['Los espacios no son problema', False, datetime.date(2017, 2, 22), Decimal('1203.23')]\n"
     ]
    }
   ],
   "source": [
    "with open('ejemplo.csv', 'r') as stream:\n",
    "    g = parser.parseFile(stream)\n",
    "    for item in g:\n",
    "        print(item)"
   ]
  },
  {
   "cell_type": "markdown",
   "metadata": {},
   "source": [
    "## Ventajas de Pyparsing"
   ]
  },
  {
   "cell_type": "markdown",
   "metadata": {},
   "source": [
    "- **Robusto y sencillo de usar**. Pyparsing lleva mas de una década de desarrollo, y se basa en el uso de gramáticas para la definición formal de lenguajes. El paso de la gramática a código Python es casi directo.\n",
    "\n",
    "\n",
    "- **Desarrollo incremental, facilmente testeable**. El parser final se puede ir construyendo paso a paso.\n",
    "\n",
    "- No se ve en los ejemplo, pero podemos añadir **validaciones y mensjes de error explicativos** que simplifican la resolución de problemas --incluyendo, por ejemplo, número de línea y posición del error--. Podemos asignar nombres a los resultados de los tokens para que seán más sencills de referencias, y muchas otras funcionalidades que no hemos tiempo de ver aquí.\n",
    "\n",
    "- **Flexible**, comparado con un parser hecho a mano o en base a un montón de espresiones regulares. A modo de ejemplo, véanse los **ejercicios para el lector**.\n"
   ]
  },
  {
   "cell_type": "markdown",
   "metadata": {},
   "source": [
    "### Ejercicios para el lector\n",
    "\n",
    "- Añadir otro formato válido para las fechas, por ejemplo, ``10/abr/2017`` (10 puntos)\n",
    "\n",
    "-  Permitir que la última columna, el importe, acepte también un valor entero, es decir, sin parte decimal (20 puntos)\n",
    "\n",
    "- El jefe ha modificado el formato, el fichero tiene ahora una última ĺinea donde va el total acumulado de todos los importes previos, algo así:\n",
    "\n",
    "        Comentario;Activo;Fecha;Importe\n",
    "        Texto sin comillas porque yo lo valgo;Y;2017-08-08;4292.00\n",
    "        \"Ahora si que pongo comillas\";F;25/8/2014;3200.00\n",
    "        Ya ves, todo vale;True;1/1/1970;4532,02\n",
    "        12024.02\n",
    "   \n",
    "  El parser debe adaptarse a este cambio, y comprobar que la suma de los importes\n",
    "  coincide con el dato final. Si, ya sé que, técnicamente, esto ha dejado de ser\n",
    "  un CSV. Estas cosas pasan. (100 puntos y una gran satisfacción personal)"
   ]
  },
  {
   "cell_type": "code",
   "execution_count": null,
   "metadata": {
    "collapsed": true
   },
   "outputs": [],
   "source": []
  }
 ],
 "metadata": {
  "kernelspec": {
   "display_name": "Python 3",
   "language": "python",
   "name": "python3"
  },
  "language_info": {
   "codemirror_mode": {
    "name": "ipython",
    "version": 3
   },
   "file_extension": ".py",
   "mimetype": "text/x-python",
   "name": "python",
   "nbconvert_exporter": "python",
   "pygments_lexer": "ipython3",
   "version": "3.5.2"
  }
 },
 "nbformat": 4,
 "nbformat_minor": 2
}
